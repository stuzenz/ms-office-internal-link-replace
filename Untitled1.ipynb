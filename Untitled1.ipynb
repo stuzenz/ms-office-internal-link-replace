{
 "cells": [
  {
   "cell_type": "markdown",
   "id": "b53e215c-2b8b-41aa-9fb3-8ec27e2fcc27",
   "metadata": {},
   "source": [
    "# This is a top level\n",
    "\n",
    "## this is second level\n",
    "\n",
    "- bullet point"
   ]
  },
  {
   "cell_type": "code",
   "execution_count": 1,
   "id": "b90c9882-016a-4d92-adcf-2e2e95d10190",
   "metadata": {
    "execution": {
     "iopub.execute_input": "2021-09-22T02:02:14.619577Z",
     "iopub.status.busy": "2021-09-22T02:02:14.618950Z",
     "iopub.status.idle": "2021-09-22T02:02:14.636786Z",
     "shell.execute_reply": "2021-09-22T02:02:14.634507Z",
     "shell.execute_reply.started": "2021-09-22T02:02:14.619410Z"
    }
   },
   "outputs": [
    {
     "name": "stdout",
     "output_type": "stream",
     "text": [
      "hello\n"
     ]
    }
   ],
   "source": [
    "print(\"hello\")"
   ]
  },
  {
   "cell_type": "code",
   "execution_count": 4,
   "id": "ff28c113-9378-4c84-bf74-f58c695d9025",
   "metadata": {
    "execution": {
     "iopub.execute_input": "2021-09-22T02:03:00.743056Z",
     "iopub.status.busy": "2021-09-22T02:03:00.742518Z",
     "iopub.status.idle": "2021-09-22T02:03:00.752856Z",
     "shell.execute_reply": "2021-09-22T02:03:00.750469Z",
     "shell.execute_reply.started": "2021-09-22T02:03:00.742991Z"
    },
    "tags": []
   },
   "outputs": [],
   "source": [
    "apple_list = [\"a\",\"b\",\"c\",\"s\"]"
   ]
  },
  {
   "cell_type": "code",
   "execution_count": 5,
   "id": "76b60e2f-f02f-4338-b381-67b06c6f143b",
   "metadata": {
    "execution": {
     "iopub.execute_input": "2021-09-22T02:03:06.570128Z",
     "iopub.status.busy": "2021-09-22T02:03:06.569402Z",
     "iopub.status.idle": "2021-09-22T02:03:06.608300Z",
     "shell.execute_reply": "2021-09-22T02:03:06.605994Z",
     "shell.execute_reply.started": "2021-09-22T02:03:06.570054Z"
    }
   },
   "outputs": [
    {
     "data": {
      "text/plain": [
       "['a', 'b', 'c', 's']"
      ]
     },
     "execution_count": 5,
     "metadata": {},
     "output_type": "execute_result"
    }
   ],
   "source": [
    "apple_list"
   ]
  },
  {
   "cell_type": "markdown",
   "id": "fe130fbf-3bc4-4bb3-b47e-efb036a765f9",
   "metadata": {},
   "source": [
    "dsfksahfsahsasaf\n",
    "dsfdsafsa\n"
   ]
  },
  {
   "cell_type": "code",
   "execution_count": null,
   "id": "57340efd-d23e-4c6c-8f85-14e33f1a3cbd",
   "metadata": {},
   "outputs": [],
   "source": []
  }
 ],
 "metadata": {
  "kernelspec": {
   "display_name": "office-docs",
   "language": "python",
   "name": "office-docs"
  },
  "language_info": {
   "codemirror_mode": {
    "name": "ipython",
    "version": 3
   },
   "file_extension": ".py",
   "mimetype": "text/x-python",
   "name": "python",
   "nbconvert_exporter": "python",
   "pygments_lexer": "ipython3",
   "version": "3.9.7"
  }
 },
 "nbformat": 4,
 "nbformat_minor": 5
}
