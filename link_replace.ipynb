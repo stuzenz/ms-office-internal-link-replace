{
 "cells": [
  {
   "cell_type": "code",
   "execution_count": 248,
   "id": "4c2d4d8f-69b4-4932-b60d-cf2a93e9d841",
   "metadata": {
    "execution": {
     "iopub.execute_input": "2021-09-24T20:48:21.663256Z",
     "iopub.status.busy": "2021-09-24T20:48:21.663009Z",
     "iopub.status.idle": "2021-09-24T20:48:21.671195Z",
     "shell.execute_reply": "2021-09-24T20:48:21.670255Z",
     "shell.execute_reply.started": "2021-09-24T20:48:21.663220Z"
    },
    "tags": []
   },
   "outputs": [],
   "source": [
    "# python to change docx URL hyperlinks:\n",
    "### see: https://stackoverflow.com/questions/40475757/how-to-extract-the-url-in-hyperlinks-from-a-docx-file-using-python\n",
    "\n",
    "from docx import Document\n",
    "# from docx.opc.constants import RELATIONSHIP_TYPE as RT\n"
   ]
  },
  {
   "cell_type": "markdown",
   "id": "6fab3cb4-3f6e-4f8c-9c68-af299df14f46",
   "metadata": {
    "tags": []
   },
   "source": [
    "## Import that management sheet\n",
    "1. Take it in using openpyxl library. This implementation will keep the same order\n",
    "1. Use dataframe\n",
    "1. Convert dataframe to usable dict\n"
   ]
  },
  {
   "cell_type": "code",
   "execution_count": 249,
   "id": "dd8af646-9eb2-481b-be62-79948220170b",
   "metadata": {
    "execution": {
     "iopub.execute_input": "2021-09-24T20:48:22.206193Z",
     "iopub.status.busy": "2021-09-24T20:48:22.205958Z",
     "iopub.status.idle": "2021-09-24T20:48:22.224143Z",
     "shell.execute_reply": "2021-09-24T20:48:22.223409Z",
     "shell.execute_reply.started": "2021-09-24T20:48:22.206155Z"
    },
    "tags": []
   },
   "outputs": [],
   "source": [
    "# imports the first sheet\n",
    "# Sheet one can be used to identify base and target file names\n",
    "import collections as co\n",
    "import pandas as pd\n",
    "\n",
    "df = pd.read_excel('./management_sheet/management.xlsx')\n",
    "df = df.where(pd.notnull(df), None)\n",
    "od = co.OrderedDict((k.strip().encode('utf8'),v.strip().encode('utf8')) \n",
    "                    for (k,v,v2,v3) in df.values)"
   ]
  },
  {
   "cell_type": "code",
   "execution_count": 250,
   "id": "df1dff29-4492-4633-a8ec-c21bb0eec1b1",
   "metadata": {
    "execution": {
     "iopub.execute_input": "2021-09-24T20:48:22.477279Z",
     "iopub.status.busy": "2021-09-24T20:48:22.476521Z",
     "iopub.status.idle": "2021-09-24T20:48:22.500132Z",
     "shell.execute_reply": "2021-09-24T20:48:22.499347Z",
     "shell.execute_reply.started": "2021-09-24T20:48:22.477224Z"
    },
    "tags": []
   },
   "outputs": [],
   "source": [
    "# Sheet 2 can be used to identify base and target links to be changed\n",
    "\n",
    "df2 = pd.read_excel('./management_sheet/management.xlsx',sheet_name='Sheet2')\n",
    "df2 = df2.where(pd.notnull(df2), None)\n",
    "od2 = co.OrderedDict((k.strip().encode('utf8'),v.strip().encode('utf8')) \n",
    "                    for (k,v) in df2.values)"
   ]
  },
  {
   "cell_type": "code",
   "execution_count": 251,
   "id": "dd8db087-fb2b-40a9-ba50-4f156e01f076",
   "metadata": {
    "execution": {
     "iopub.execute_input": "2021-09-24T20:48:22.733410Z",
     "iopub.status.busy": "2021-09-24T20:48:22.733207Z",
     "iopub.status.idle": "2021-09-24T20:48:22.738041Z",
     "shell.execute_reply": "2021-09-24T20:48:22.737377Z",
     "shell.execute_reply.started": "2021-09-24T20:48:22.733385Z"
    },
    "tags": []
   },
   "outputs": [],
   "source": [
    "docx_df_list = df2[df2['oldLink'].str.contains(\".docx\")]"
   ]
  },
  {
   "cell_type": "code",
   "execution_count": 252,
   "id": "b04dbec4-1672-4ecd-9268-5844ec2486c1",
   "metadata": {
    "execution": {
     "iopub.execute_input": "2021-09-24T20:48:23.209950Z",
     "iopub.status.busy": "2021-09-24T20:48:23.209730Z",
     "iopub.status.idle": "2021-09-24T20:48:23.214793Z",
     "shell.execute_reply": "2021-09-24T20:48:23.213992Z",
     "shell.execute_reply.started": "2021-09-24T20:48:23.209913Z"
    },
    "tags": []
   },
   "outputs": [],
   "source": [
    "links_list = docx_df_list.to_dict('split')"
   ]
  },
  {
   "cell_type": "code",
   "execution_count": 253,
   "id": "ffc20450-e94b-440d-bf3b-cf52be32a8db",
   "metadata": {
    "execution": {
     "iopub.execute_input": "2021-09-24T20:48:23.614979Z",
     "iopub.status.busy": "2021-09-24T20:48:23.614715Z",
     "iopub.status.idle": "2021-09-24T20:48:23.620862Z",
     "shell.execute_reply": "2021-09-24T20:48:23.619952Z",
     "shell.execute_reply.started": "2021-09-24T20:48:23.614943Z"
    },
    "tags": []
   },
   "outputs": [
    {
     "data": {
      "text/plain": [
       "{'index': [0, 1, 2, 3, 4, 5, 6],\n",
       " 'columns': ['oldLink', 'newLink'],\n",
       " 'data': [['http://./documentone.docx', 'http://./222.docx'],\n",
       "  ['http://./documenttwo.docx', 'http://./222.docx'],\n",
       "  ['http://./document3.docx', 'http://./bbb.docx'],\n",
       "  ['http://./documentone.docx', 'http://./bbb.docx'],\n",
       "  ['http://./documenttwo.docx', 'http://./bbb.docx'],\n",
       "  ['http://./document3.docx', 'http://./bbb.docx'],\n",
       "  ['http://./doctwo.docx', 'http://./newlocation/doctwo.docx']]}"
      ]
     },
     "execution_count": 253,
     "metadata": {},
     "output_type": "execute_result"
    }
   ],
   "source": [
    "links_list"
   ]
  },
  {
   "cell_type": "code",
   "execution_count": 254,
   "id": "0985f568-be9a-45a7-9453-acaea77a3bff",
   "metadata": {
    "execution": {
     "iopub.execute_input": "2021-09-24T20:48:24.094962Z",
     "iopub.status.busy": "2021-09-24T20:48:24.094577Z",
     "iopub.status.idle": "2021-09-24T20:48:24.104314Z",
     "shell.execute_reply": "2021-09-24T20:48:24.102990Z",
     "shell.execute_reply.started": "2021-09-24T20:48:24.094891Z"
    },
    "tags": []
   },
   "outputs": [
    {
     "data": {
      "text/plain": [
       "[['http://./documentone.docx', 'http://./222.docx'],\n",
       " ['http://./documenttwo.docx', 'http://./222.docx'],\n",
       " ['http://./document3.docx', 'http://./bbb.docx'],\n",
       " ['http://./documentone.docx', 'http://./bbb.docx'],\n",
       " ['http://./documenttwo.docx', 'http://./bbb.docx'],\n",
       " ['http://./document3.docx', 'http://./bbb.docx'],\n",
       " ['http://./doctwo.docx', 'http://./newlocation/doctwo.docx']]"
      ]
     },
     "execution_count": 254,
     "metadata": {},
     "output_type": "execute_result"
    }
   ],
   "source": [
    "links_list['data']"
   ]
  },
  {
   "cell_type": "code",
   "execution_count": null,
   "id": "ad1179d2-e076-4e7b-bb94-df9fc6447c90",
   "metadata": {},
   "outputs": [],
   "source": []
  },
  {
   "cell_type": "code",
   "execution_count": 255,
   "id": "481cc31d-d556-45b4-89c1-78bab2da25cf",
   "metadata": {
    "execution": {
     "iopub.execute_input": "2021-09-24T20:48:25.486228Z",
     "iopub.status.busy": "2021-09-24T20:48:25.485850Z",
     "iopub.status.idle": "2021-09-24T20:48:25.495572Z",
     "shell.execute_reply": "2021-09-24T20:48:25.493625Z",
     "shell.execute_reply.started": "2021-09-24T20:48:25.486178Z"
    },
    "tags": []
   },
   "outputs": [],
   "source": [
    "# Create a list of files from source\n",
    "\n",
    "from glob import glob\n",
    "from os.path import join\n",
    "directory_path = \"./source\"\n",
    "source_files = glob(join(directory_path, \"**\", \"*.docx\"), recursive=True)"
   ]
  },
  {
   "cell_type": "code",
   "execution_count": 256,
   "id": "1c26edc3-fd03-4239-a17c-9319eebbb2d3",
   "metadata": {
    "execution": {
     "iopub.execute_input": "2021-09-24T20:48:25.837376Z",
     "iopub.status.busy": "2021-09-24T20:48:25.836994Z",
     "iopub.status.idle": "2021-09-24T20:48:25.846431Z",
     "shell.execute_reply": "2021-09-24T20:48:25.844978Z",
     "shell.execute_reply.started": "2021-09-24T20:48:25.837328Z"
    },
    "tags": []
   },
   "outputs": [
    {
     "data": {
      "text/plain": [
       "['./source/a/demo.docx', './source/b/demo1.docx', './source/c/demo2.docx']"
      ]
     },
     "execution_count": 256,
     "metadata": {},
     "output_type": "execute_result"
    }
   ],
   "source": [
    "source_files"
   ]
  },
  {
   "cell_type": "code",
   "execution_count": 257,
   "id": "ecf512a7-3b3f-4700-b68a-2445cad016e6",
   "metadata": {
    "execution": {
     "iopub.execute_input": "2021-09-24T20:48:26.126830Z",
     "iopub.status.busy": "2021-09-24T20:48:26.126440Z",
     "iopub.status.idle": "2021-09-24T20:48:26.134730Z",
     "shell.execute_reply": "2021-09-24T20:48:26.133607Z",
     "shell.execute_reply.started": "2021-09-24T20:48:26.126780Z"
    },
    "tags": []
   },
   "outputs": [],
   "source": [
    "target_files = []\n",
    "\n"
   ]
  },
  {
   "cell_type": "code",
   "execution_count": 258,
   "id": "069d3279-0bdc-4c92-a69c-725b58bbcf94",
   "metadata": {
    "execution": {
     "iopub.execute_input": "2021-09-24T20:48:26.468553Z",
     "iopub.status.busy": "2021-09-24T20:48:26.468139Z",
     "iopub.status.idle": "2021-09-24T20:48:26.477281Z",
     "shell.execute_reply": "2021-09-24T20:48:26.476103Z",
     "shell.execute_reply.started": "2021-09-24T20:48:26.468501Z"
    },
    "tags": []
   },
   "outputs": [
    {
     "data": {
      "text/plain": [
       "['./target/a/demo.docx', './target/b/demo1.docx', './target/c/demo2.docx']"
      ]
     },
     "execution_count": 258,
     "metadata": {},
     "output_type": "execute_result"
    }
   ],
   "source": [
    "for value in source_files:\n",
    "    target_files.append(value.replace('source', 'target'))\n",
    "target_files"
   ]
  },
  {
   "cell_type": "code",
   "execution_count": 259,
   "id": "54ba8282-fbc7-40c4-9f30-55fd2b4a6080",
   "metadata": {
    "execution": {
     "iopub.execute_input": "2021-09-24T20:48:27.115997Z",
     "iopub.status.busy": "2021-09-24T20:48:27.115601Z",
     "iopub.status.idle": "2021-09-24T20:48:27.130752Z",
     "shell.execute_reply": "2021-09-24T20:48:27.129491Z",
     "shell.execute_reply.started": "2021-09-24T20:48:27.115949Z"
    },
    "tags": []
   },
   "outputs": [
    {
     "data": {
      "text/plain": [
       "'./target/b/demo1.docx'"
      ]
     },
     "execution_count": 259,
     "metadata": {},
     "output_type": "execute_result"
    }
   ],
   "source": [
    "target_files[1]"
   ]
  },
  {
   "cell_type": "code",
   "execution_count": 260,
   "id": "93946e91-853f-4027-8fe2-61b5bd09952c",
   "metadata": {
    "execution": {
     "iopub.execute_input": "2021-09-24T20:48:27.524153Z",
     "iopub.status.busy": "2021-09-24T20:48:27.523699Z",
     "iopub.status.idle": "2021-09-24T20:48:27.564667Z",
     "shell.execute_reply": "2021-09-24T20:48:27.563914Z",
     "shell.execute_reply.started": "2021-09-24T20:48:27.524093Z"
    },
    "tags": []
   },
   "outputs": [
    {
     "name": "stdout",
     "output_type": "stream",
     "text": [
      "saved\n"
     ]
    },
    {
     "data": {
      "text/plain": [
       "[['./source/a/demo.docx', './target/a/demo.docx'],\n",
       " ['./source/b/demo1.docx', './target/b/demo1.docx'],\n",
       " ['./source/c/demo2.docx', './target/c/demo2.docx']]"
      ]
     },
     "execution_count": 260,
     "metadata": {},
     "output_type": "execute_result"
    }
   ],
   "source": [
    "from docx.opc.constants import RELATIONSHIP_TYPE as RT\n",
    "from time import sleep\n",
    "i = 0\n",
    "scanned_files_source = []\n",
    "saved_files_target = []\n",
    "for value in source_files:\n",
    "    scanned_files_source.append(value)\n",
    "        \n",
    "    document = Document(value)\n",
    "    rels = document.part.rels    \n",
    "    found_links = []\n",
    "    for rel in rels:\n",
    "       if rels[rel].reltype == RT.HYPERLINK:\n",
    "#         print(\"\\n Original link id -\", rel, \"with detected URL: \", rels[rel]._target)\n",
    "        found_links.append(rels[rel]._target)\n",
    "        for item in links_list['data']:\n",
    "            if rels[rel]._target == item[0]:\n",
    "                rels[rel]._target = item[1]\n",
    "    document.save(target_files[i])\n",
    "    saved_files_target.append([value,target_files[i]])\n",
    "    i = i+1\n",
    "    \n",
    "#     sleep(2)\n",
    "\n",
    "# links_list = []\n",
    "found_links    \n",
    "\n",
    "print(\"saved\")\n",
    "saved_files_target\n",
    "# for value in filtered_files:\n",
    "#     links_list = []"
   ]
  },
  {
   "cell_type": "code",
   "execution_count": 244,
   "id": "2939a1ae-f8ef-4765-8268-6cbaad2d1583",
   "metadata": {
    "execution": {
     "iopub.execute_input": "2021-09-24T20:43:43.134611Z",
     "iopub.status.busy": "2021-09-24T20:43:43.134332Z",
     "iopub.status.idle": "2021-09-24T20:43:43.142221Z",
     "shell.execute_reply": "2021-09-24T20:43:43.141295Z",
     "shell.execute_reply.started": "2021-09-24T20:43:43.134567Z"
    },
    "tags": []
   },
   "outputs": [
    {
     "data": {
      "text/plain": [
       "['./source/a/demo.docx', './source/b/demo1.docx', './source/c/demo2.docx']"
      ]
     },
     "execution_count": 244,
     "metadata": {},
     "output_type": "execute_result"
    }
   ],
   "source": [
    "scanned_files_source"
   ]
  },
  {
   "cell_type": "code",
   "execution_count": 220,
   "id": "f7692e84-61b6-4a4d-8f94-9e904ff7f5e0",
   "metadata": {
    "execution": {
     "iopub.execute_input": "2021-09-24T20:27:31.250396Z",
     "iopub.status.busy": "2021-09-24T20:27:31.249888Z",
     "iopub.status.idle": "2021-09-24T20:27:31.262057Z",
     "shell.execute_reply": "2021-09-24T20:27:31.260379Z",
     "shell.execute_reply.started": "2021-09-24T20:27:31.250353Z"
    },
    "tags": []
   },
   "outputs": [
    {
     "data": {
      "text/plain": [
       "[['http://./documentone.docx', 'http://./aaa.docx'],\n",
       " ['http://./documenttwo.docx', 'http://./bbb.docx'],\n",
       " ['http://./document3.docx', 'http://./bbb.docx'],\n",
       " ['http://./documentone.docx', 'http://./bbb.docx'],\n",
       " ['http://./documenttwo.docx', 'http://./bbb.docx'],\n",
       " ['http://./document3.docx', 'http://./bbb.docx'],\n",
       " ['http://./doctwo.docx', 'http://./newlocation/doctwo.docx']]"
      ]
     },
     "execution_count": 220,
     "metadata": {},
     "output_type": "execute_result"
    }
   ],
   "source": [
    "links_list['data']"
   ]
  },
  {
   "cell_type": "code",
   "execution_count": 161,
   "id": "c0fa7b1b-4e7e-4561-8c72-f2ad3b152a2c",
   "metadata": {
    "execution": {
     "iopub.execute_input": "2021-09-24T18:57:01.371674Z",
     "iopub.status.busy": "2021-09-24T18:57:01.371351Z",
     "iopub.status.idle": "2021-09-24T18:57:01.385185Z",
     "shell.execute_reply": "2021-09-24T18:57:01.384176Z",
     "shell.execute_reply.started": "2021-09-24T18:57:01.371633Z"
    },
    "tags": []
   },
   "outputs": [
    {
     "name": "stdout",
     "output_type": "stream",
     "text": [
      "\n",
      " Original link id - rId2 with detected URL:  http://./documentone.docx\n",
      "\n",
      " Original link id - rId3 with detected URL:  http://./documenttwo.docx\n",
      "\n",
      " Original link id - rId4 with detected URL:  http://./document3.docx\n",
      "\n",
      " Original link id - rId5 with detected URL:  http://./documentone.docx\n",
      "\n",
      " Original link id - rId6 with detected URL:  http://./documenttwo.docx\n",
      "\n",
      " Original link id - rId7 with detected URL:  http://./document3.docx\n"
     ]
    }
   ],
   "source": [
    "found_links = []\n",
    "for rel in rels:\n",
    "   if rels[rel].reltype == RT.HYPERLINK:\n",
    "    print(\"\\n Original link id -\", rel, \"with detected URL: \", rels[rel]._target)\n",
    "    found_links.append(rels[rel]._target)\n",
    "    for value in links_list['data']:\n",
    "        if rels[rel]._target == value[0]:\n",
    "            rels[rel]._target = value[1]    "
   ]
  },
  {
   "cell_type": "code",
   "execution_count": 228,
   "id": "6452e7e6-051f-40af-b684-59166dcb906e",
   "metadata": {
    "execution": {
     "iopub.execute_input": "2021-09-24T20:33:37.765924Z",
     "iopub.status.busy": "2021-09-24T20:33:37.765542Z",
     "iopub.status.idle": "2021-09-24T20:33:37.772372Z",
     "shell.execute_reply": "2021-09-24T20:33:37.771592Z",
     "shell.execute_reply.started": "2021-09-24T20:33:37.765873Z"
    }
   },
   "outputs": [
    {
     "data": {
      "text/plain": [
       "['http://./document3.docx',\n",
       " 'http://./documenttwo.docx',\n",
       " 'http://./documentone.docx',\n",
       " 'http://./documentone.docx',\n",
       " 'http://./documenttwo.docx',\n",
       " 'http://./document3.docx']"
      ]
     },
     "execution_count": 228,
     "metadata": {},
     "output_type": "execute_result"
    }
   ],
   "source": [
    "found_links"
   ]
  },
  {
   "cell_type": "code",
   "execution_count": 162,
   "id": "9931d2c4-cbdb-4ae5-99c3-15e5a9fc3c96",
   "metadata": {
    "execution": {
     "iopub.execute_input": "2021-09-24T18:57:22.526568Z",
     "iopub.status.busy": "2021-09-24T18:57:22.526290Z",
     "iopub.status.idle": "2021-09-24T18:57:22.537103Z",
     "shell.execute_reply": "2021-09-24T18:57:22.536078Z",
     "shell.execute_reply.started": "2021-09-24T18:57:22.526541Z"
    },
    "tags": []
   },
   "outputs": [],
   "source": [
    "document.save('demo2.docx')"
   ]
  },
  {
   "cell_type": "code",
   "execution_count": null,
   "id": "8057b5b4-c3b7-4a43-8917-95be8da77c2c",
   "metadata": {},
   "outputs": [],
   "source": []
  },
  {
   "cell_type": "code",
   "execution_count": null,
   "id": "eef41cf8-7bb5-45a2-9e12-3098cbd25b23",
   "metadata": {},
   "outputs": [],
   "source": []
  },
  {
   "cell_type": "code",
   "execution_count": null,
   "id": "f8e2d637-3098-4cd3-8898-5b1c77952967",
   "metadata": {},
   "outputs": [],
   "source": []
  },
  {
   "cell_type": "code",
   "execution_count": 116,
   "id": "8c158d91-fb8a-4874-82b6-823faf0d0062",
   "metadata": {
    "execution": {
     "iopub.execute_input": "2021-09-24T18:29:02.797498Z",
     "iopub.status.busy": "2021-09-24T18:29:02.797078Z",
     "iopub.status.idle": "2021-09-24T18:29:02.805506Z",
     "shell.execute_reply": "2021-09-24T18:29:02.804701Z",
     "shell.execute_reply.started": "2021-09-24T18:29:02.797438Z"
    }
   },
   "outputs": [
    {
     "name": "stdout",
     "output_type": "stream",
     "text": [
      "index\n",
      "columns\n",
      "data\n"
     ]
    }
   ],
   "source": [
    "for value in links_list:\n",
    "    \n",
    "    print(value)"
   ]
  },
  {
   "cell_type": "code",
   "execution_count": 124,
   "id": "6bb5b22e-5d73-4eb0-b376-0da54db3a528",
   "metadata": {
    "execution": {
     "iopub.execute_input": "2021-09-24T18:39:09.627188Z",
     "iopub.status.busy": "2021-09-24T18:39:09.626918Z",
     "iopub.status.idle": "2021-09-24T18:39:09.632362Z",
     "shell.execute_reply": "2021-09-24T18:39:09.631434Z",
     "shell.execute_reply.started": "2021-09-24T18:39:09.627144Z"
    },
    "tags": []
   },
   "outputs": [],
   "source": [
    "# use this in the piece when links are looked at in files\n",
    "for value in links_list['data']:\n",
    "        if value[0] == 'http://./document3.docx':\n",
    "            a = 'http//new_location/document3.docx'\n",
    "        \n",
    "      "
   ]
  },
  {
   "cell_type": "code",
   "execution_count": 125,
   "id": "ec37152d-03a3-44ad-b858-39804d6739ce",
   "metadata": {
    "execution": {
     "iopub.execute_input": "2021-09-24T18:39:14.163854Z",
     "iopub.status.busy": "2021-09-24T18:39:14.163638Z",
     "iopub.status.idle": "2021-09-24T18:39:14.172153Z",
     "shell.execute_reply": "2021-09-24T18:39:14.169514Z",
     "shell.execute_reply.started": "2021-09-24T18:39:14.163824Z"
    }
   },
   "outputs": [
    {
     "data": {
      "text/plain": [
       "'http//new_location/document3.docx'"
      ]
     },
     "execution_count": 125,
     "metadata": {},
     "output_type": "execute_result"
    }
   ],
   "source": [
    "a"
   ]
  },
  {
   "cell_type": "code",
   "execution_count": 63,
   "id": "00020886-e988-4f67-a7c6-3dee0630d090",
   "metadata": {
    "execution": {
     "iopub.execute_input": "2021-09-22T10:47:31.727288Z",
     "iopub.status.busy": "2021-09-22T10:47:31.726943Z",
     "iopub.status.idle": "2021-09-22T10:47:31.749806Z",
     "shell.execute_reply": "2021-09-22T10:47:31.738690Z",
     "shell.execute_reply.started": "2021-09-22T10:47:31.727244Z"
    },
    "tags": []
   },
   "outputs": [],
   "source": [
    "docx_df = df[df['oldFileName'].str.contains(\".docx\")]"
   ]
  },
  {
   "cell_type": "code",
   "execution_count": 108,
   "id": "7819202f-1b6e-40c4-90f8-dd81ca2da0c1",
   "metadata": {
    "execution": {
     "iopub.execute_input": "2021-09-24T07:35:59.581734Z",
     "iopub.status.busy": "2021-09-24T07:35:59.581242Z",
     "iopub.status.idle": "2021-09-24T07:35:59.613715Z",
     "shell.execute_reply": "2021-09-24T07:35:59.612055Z",
     "shell.execute_reply.started": "2021-09-24T07:35:59.581679Z"
    },
    "tags": []
   },
   "outputs": [
    {
     "data": {
      "text/html": [
       "<div>\n",
       "<style scoped>\n",
       "    .dataframe tbody tr th:only-of-type {\n",
       "        vertical-align: middle;\n",
       "    }\n",
       "\n",
       "    .dataframe tbody tr th {\n",
       "        vertical-align: top;\n",
       "    }\n",
       "\n",
       "    .dataframe thead th {\n",
       "        text-align: right;\n",
       "    }\n",
       "</style>\n",
       "<table border=\"1\" class=\"dataframe\">\n",
       "  <thead>\n",
       "    <tr style=\"text-align: right;\">\n",
       "      <th></th>\n",
       "      <th>0</th>\n",
       "      <th>1</th>\n",
       "      <th>2</th>\n",
       "      <th>3</th>\n",
       "      <th>4</th>\n",
       "      <th>5</th>\n",
       "    </tr>\n",
       "  </thead>\n",
       "  <tbody>\n",
       "    <tr>\n",
       "      <th>oldLink</th>\n",
       "      <td>http://./documentone.docx</td>\n",
       "      <td>http://./documenttwo.docx</td>\n",
       "      <td>http://./document3.docx</td>\n",
       "      <td>http://./documentone.docx</td>\n",
       "      <td>http://./documenttwo.docx</td>\n",
       "      <td>http://./document3.docx</td>\n",
       "    </tr>\n",
       "    <tr>\n",
       "      <th>newLink</th>\n",
       "      <td>http://./aaa.docx</td>\n",
       "      <td>http://./bbb.docx</td>\n",
       "      <td>http://./bbb.docx</td>\n",
       "      <td>http://./bbb.docx</td>\n",
       "      <td>http://./bbb.docx</td>\n",
       "      <td>http://./bbb.docx</td>\n",
       "    </tr>\n",
       "  </tbody>\n",
       "</table>\n",
       "</div>"
      ],
      "text/plain": [
       "                                 0                          1  \\\n",
       "oldLink  http://./documentone.docx  http://./documenttwo.docx   \n",
       "newLink          http://./aaa.docx          http://./bbb.docx   \n",
       "\n",
       "                               2                          3  \\\n",
       "oldLink  http://./document3.docx  http://./documentone.docx   \n",
       "newLink        http://./bbb.docx          http://./bbb.docx   \n",
       "\n",
       "                                 4                        5  \n",
       "oldLink  http://./documenttwo.docx  http://./document3.docx  \n",
       "newLink          http://./bbb.docx        http://./bbb.docx  "
      ]
     },
     "execution_count": 108,
     "metadata": {},
     "output_type": "execute_result"
    }
   ],
   "source": [
    "docx_df_list.transpose()"
   ]
  },
  {
   "cell_type": "code",
   "execution_count": 103,
   "id": "63283611-5589-486a-9eb3-660563ba5e75",
   "metadata": {
    "execution": {
     "iopub.execute_input": "2021-09-23T20:36:39.143277Z",
     "iopub.status.busy": "2021-09-23T20:36:39.142692Z",
     "iopub.status.idle": "2021-09-23T20:36:39.169026Z",
     "shell.execute_reply": "2021-09-23T20:36:39.164835Z",
     "shell.execute_reply.started": "2021-09-23T20:36:39.143195Z"
    },
    "tags": []
   },
   "outputs": [
    {
     "ename": "AttributeError",
     "evalue": "'dict' object has no attribute 'transpose'",
     "output_type": "error",
     "traceback": [
      "\u001b[0;31m---------------------------------------------------------------------------\u001b[0m",
      "\u001b[0;31mAttributeError\u001b[0m                            Traceback (most recent call last)",
      "\u001b[0;32m/tmp/ipykernel_45690/2579338084.py\u001b[0m in \u001b[0;36m<module>\u001b[0;34m\u001b[0m\n\u001b[0;32m----> 1\u001b[0;31m \u001b[0mdocx_df\u001b[0m\u001b[0;34m.\u001b[0m\u001b[0mto_dict\u001b[0m\u001b[0;34m(\u001b[0m\u001b[0;34m)\u001b[0m\u001b[0;34m.\u001b[0m\u001b[0mtranspose\u001b[0m\u001b[0;34m(\u001b[0m\u001b[0;34m)\u001b[0m\u001b[0;34m\u001b[0m\u001b[0;34m\u001b[0m\u001b[0m\n\u001b[0m",
      "\u001b[0;31mAttributeError\u001b[0m: 'dict' object has no attribute 'transpose'"
     ]
    }
   ],
   "source": [
    "docx_df.to_dict()"
   ]
  },
  {
   "cell_type": "code",
   "execution_count": 65,
   "id": "e8388c22-073e-46a3-b733-db4560170f36",
   "metadata": {
    "execution": {
     "iopub.execute_input": "2021-09-22T10:47:37.726057Z",
     "iopub.status.busy": "2021-09-22T10:47:37.725195Z",
     "iopub.status.idle": "2021-09-22T10:47:37.731101Z",
     "shell.execute_reply": "2021-09-22T10:47:37.730041Z",
     "shell.execute_reply.started": "2021-09-22T10:47:37.726008Z"
    },
    "tags": []
   },
   "outputs": [],
   "source": [
    "docx_dict = docx_df.to_dict()"
   ]
  },
  {
   "cell_type": "code",
   "execution_count": null,
   "id": "3bad4f69-ace1-402a-b361-da4b0bc81a09",
   "metadata": {},
   "outputs": [],
   "source": []
  },
  {
   "cell_type": "code",
   "execution_count": 69,
   "id": "f4f2dce0-4d1b-412a-b856-313d64c0a144",
   "metadata": {
    "execution": {
     "iopub.execute_input": "2021-09-22T10:51:55.670381Z",
     "iopub.status.busy": "2021-09-22T10:51:55.670020Z",
     "iopub.status.idle": "2021-09-22T10:51:55.691712Z",
     "shell.execute_reply": "2021-09-22T10:51:55.689480Z",
     "shell.execute_reply.started": "2021-09-22T10:51:55.670338Z"
    }
   },
   "outputs": [
    {
     "name": "stdout",
     "output_type": "stream",
     "text": [
      "\n",
      " Original link id - rId2 with detected URL:  http://./docone.docx\n",
      "\n",
      " Original link id - rId3 with detected URL:  http://./docone.docx\n",
      "\n",
      " Original link id - rId4 with detected URL:  http://./docone.docx\n",
      "\n",
      " Original link id - rId5 with detected URL:  http://./docone.docx\n",
      "\n",
      " Original link id - rId6 with detected URL:  http://./docone.docx\n",
      "\n",
      " Original link id - rId7 with detected URL:  http://./docone.docx\n"
     ]
    }
   ],
   "source": [
    "for rel in rels:\n",
    "   if rels[rel].reltype == RT.HYPERLINK:\n",
    "    print(\"\\n Original link id -\", rel, \"with detected URL: \", rels[rel]._target)\n",
    "    links_list.append(rels[rel]._target)"
   ]
  },
  {
   "cell_type": "code",
   "execution_count": 70,
   "id": "ef99ed6e-eee6-409d-80db-40fff3a357a6",
   "metadata": {
    "execution": {
     "iopub.execute_input": "2021-09-22T10:53:47.514003Z",
     "iopub.status.busy": "2021-09-22T10:53:47.513704Z",
     "iopub.status.idle": "2021-09-22T10:53:47.542468Z",
     "shell.execute_reply": "2021-09-22T10:53:47.541626Z",
     "shell.execute_reply.started": "2021-09-22T10:53:47.513966Z"
    }
   },
   "outputs": [],
   "source": [
    "document.save('./demo3.docx')"
   ]
  },
  {
   "cell_type": "code",
   "execution_count": 57,
   "id": "4b78da8f-ab2a-4f39-bcb1-beb1f55de225",
   "metadata": {
    "execution": {
     "iopub.execute_input": "2021-09-22T10:47:04.790595Z",
     "iopub.status.busy": "2021-09-22T10:47:04.790269Z",
     "iopub.status.idle": "2021-09-22T10:47:04.816491Z",
     "shell.execute_reply": "2021-09-22T10:47:04.813409Z",
     "shell.execute_reply.started": "2021-09-22T10:47:04.790552Z"
    },
    "tags": []
   },
   "outputs": [
    {
     "name": "stdout",
     "output_type": "stream",
     "text": [
      "\n",
      " Original link id - rId2 with detected URL:  http://./documentone.docx\n",
      "\n",
      " Original link id - rId3 with detected URL:  http://./documenttwo.docx\n",
      "\n",
      " Original link id - rId4 with detected URL:  http://./document3.docx\n",
      "\n",
      " Original link id - rId5 with detected URL:  http://./documentone.docx\n",
      "\n",
      " Original link id - rId6 with detected URL:  http://./documenttwo.docx\n",
      "\n",
      " Original link id - rId7 with detected URL:  http://./document3.docx\n",
      "\n",
      " Original link id - rId2 with detected URL:  http://./documentone.docx\n",
      "\n",
      " Original link id - rId3 with detected URL:  http://./documenttwo.docx\n",
      "\n",
      " Original link id - rId4 with detected URL:  http://./document3.docx\n",
      "\n",
      " Original link id - rId5 with detected URL:  http://./documentone.docx\n",
      "\n",
      " Original link id - rId6 with detected URL:  http://./documenttwo.docx\n",
      "\n",
      " Original link id - rId7 with detected URL:  http://./document3.docx\n",
      "\n",
      " Original link id - rId2 with detected URL:  http://./documentone.docx\n",
      "\n",
      " Original link id - rId3 with detected URL:  http://./documenttwo.docx\n",
      "\n",
      " Original link id - rId4 with detected URL:  http://./document3.docx\n",
      "\n",
      " Original link id - rId5 with detected URL:  http://./documentone.docx\n",
      "\n",
      " Original link id - rId6 with detected URL:  http://./documenttwo.docx\n",
      "\n",
      " Original link id - rId7 with detected URL:  http://./document3.docx\n"
     ]
    }
   ],
   "source": [
    "from docx.opc.constants import RELATIONSHIP_TYPE as RT\n",
    "\n",
    "\n",
    "\n",
    "document = Document('./demo.docx')\n",
    "\n",
    "rels = document.part.rels\n",
    "links_list = []\n",
    "    \n",
    "for value in filtered_files:\n",
    "    links_list = []\n",
    "    for rel in rels:\n",
    "       if rels[rel].reltype == RT.HYPERLINK:\n",
    "        print(\"\\n Original link id -\", rel, \"with detected URL: \", rels[rel]._target)\n",
    "        links_list.append(rels[rel]._target)\n",
    "    #       print(\"\\n Original link id -\", rel, \"with detected URL: \", rels[rel].)\n",
    "\n",
    "    #       new_url=input(\" Pls input new URL: \")\n",
    "    #       rels[rel]._target=new_url\n",
    "\n",
    "    links_list\n"
   ]
  },
  {
   "cell_type": "code",
   "execution_count": 58,
   "id": "f334bee7-6e91-4074-b7dc-aa161729b454",
   "metadata": {
    "execution": {
     "iopub.execute_input": "2021-09-22T10:47:07.815466Z",
     "iopub.status.busy": "2021-09-22T10:47:07.815143Z",
     "iopub.status.idle": "2021-09-22T10:47:07.821461Z",
     "shell.execute_reply": "2021-09-22T10:47:07.820602Z",
     "shell.execute_reply.started": "2021-09-22T10:47:07.815417Z"
    },
    "tags": []
   },
   "outputs": [
    {
     "data": {
      "text/plain": [
       "['http://./documentone.docx',\n",
       " 'http://./documenttwo.docx',\n",
       " 'http://./document3.docx',\n",
       " 'http://./documentone.docx',\n",
       " 'http://./documenttwo.docx',\n",
       " 'http://./document3.docx']"
      ]
     },
     "execution_count": 58,
     "metadata": {},
     "output_type": "execute_result"
    }
   ],
   "source": [
    "links_list"
   ]
  },
  {
   "cell_type": "code",
   "execution_count": null,
   "id": "9c98a8b3-2277-4e13-9188-6836f5209f4d",
   "metadata": {},
   "outputs": [],
   "source": []
  },
  {
   "cell_type": "code",
   "execution_count": 59,
   "id": "83ecc93d-d725-4877-94b3-e0cd1dea859d",
   "metadata": {
    "execution": {
     "iopub.execute_input": "2021-09-22T10:47:11.449550Z",
     "iopub.status.busy": "2021-09-22T10:47:11.449022Z",
     "iopub.status.idle": "2021-09-22T10:47:11.509954Z",
     "shell.execute_reply": "2021-09-22T10:47:11.506841Z",
     "shell.execute_reply.started": "2021-09-22T10:47:11.449490Z"
    },
    "jupyter": {
     "source_hidden": true
    },
    "tags": []
   },
   "outputs": [
    {
     "name": "stdout",
     "output_type": "stream",
     "text": [
      "\n",
      " Original link id - rId2 with detected URL:  http://./documentone.docx\n",
      "\n",
      " Original link id - rId3 with detected URL:  http://./documenttwo.docx\n",
      "\n",
      " Original link id - rId4 with detected URL:  http://./document3.docx\n",
      "\n",
      " Original link id - rId5 with detected URL:  http://./documentone.docx\n",
      "\n",
      " Original link id - rId6 with detected URL:  http://./documenttwo.docx\n",
      "\n",
      " Original link id - rId7 with detected URL:  http://./document3.docx\n"
     ]
    },
    {
     "data": {
      "text/plain": [
       "['http://./documentone.docx',\n",
       " 'http://./documenttwo.docx',\n",
       " 'http://./document3.docx',\n",
       " 'http://./documentone.docx',\n",
       " 'http://./documenttwo.docx',\n",
       " 'http://./document3.docx']"
      ]
     },
     "execution_count": 59,
     "metadata": {},
     "output_type": "execute_result"
    }
   ],
   "source": [
    "# Working code\n",
    "from docx.opc.constants import RELATIONSHIP_TYPE as RT\n",
    "\n",
    "\n",
    "\n",
    "document = Document('./demo.docx')\n",
    "\n",
    "rels = document.part.rels\n",
    "\n",
    "\n",
    "# for paragraph in document.paragraphs:\n",
    "#     print(paragraph.text)\n",
    "\n",
    "links_list = []\n",
    "for rel in rels:\n",
    "   if rels[rel].reltype == RT.HYPERLINK:\n",
    "#     print(\"\\n Original link id -\", rel, \"with detected URL: \", rels[rel]._target)b\n",
    "    links_list.append(rels[rel]._target)\n",
    "#       print(\"\\n Original link id -\", rel, \"with detected URL: \", rels[rel].)\n",
    "        \n",
    "#       new_url=input(\" Pls input new URL: \")\n",
    "#       rels[rel]._target=new_url\n",
    "\n",
    "links_list"
   ]
  },
  {
   "cell_type": "markdown",
   "id": "537be22e-8aec-46e6-ba49-0c560b741b20",
   "metadata": {},
   "source": [
    "# Read a docx file, change any links in the document\n",
    "\n",
    "1. Change the location part of the link from old to new\n",
    "2. Change the name part of the link from old to new"
   ]
  },
  {
   "cell_type": "code",
   "execution_count": null,
   "id": "6d5ea1db-3a20-4c2b-ba37-cf58aa130237",
   "metadata": {},
   "outputs": [],
   "source": []
  },
  {
   "cell_type": "code",
   "execution_count": 66,
   "id": "1bcfa1e8-ca17-401e-90f8-dba41ede1108",
   "metadata": {
    "execution": {
     "iopub.execute_input": "2021-09-22T10:47:46.553849Z",
     "iopub.status.busy": "2021-09-22T10:47:46.553392Z",
     "iopub.status.idle": "2021-09-22T10:47:46.602082Z",
     "shell.execute_reply": "2021-09-22T10:47:46.599643Z",
     "shell.execute_reply.started": "2021-09-22T10:47:46.553784Z"
    },
    "tags": []
   },
   "outputs": [
    {
     "ename": "PackageNotFoundError",
     "evalue": "Package not found at 'demo.docx.docx'",
     "output_type": "error",
     "traceback": [
      "\u001b[0;31m---------------------------------------------------------------------------\u001b[0m",
      "\u001b[0;31mPackageNotFoundError\u001b[0m                      Traceback (most recent call last)",
      "\u001b[0;32m/tmp/ipykernel_45690/2780203429.py\u001b[0m in \u001b[0;36m<module>\u001b[0;34m\u001b[0m\n\u001b[1;32m      1\u001b[0m \u001b[0;32mfor\u001b[0m \u001b[0mkey\u001b[0m\u001b[0;34m,\u001b[0m \u001b[0melement\u001b[0m \u001b[0;32min\u001b[0m \u001b[0mdocx_dict\u001b[0m\u001b[0;34m.\u001b[0m\u001b[0mitems\u001b[0m\u001b[0;34m(\u001b[0m\u001b[0;34m)\u001b[0m\u001b[0;34m:\u001b[0m\u001b[0;34m\u001b[0m\u001b[0;34m\u001b[0m\u001b[0m\n\u001b[0;32m----> 2\u001b[0;31m     \u001b[0mdocument\u001b[0m \u001b[0;34m=\u001b[0m \u001b[0mDocument\u001b[0m\u001b[0;34m(\u001b[0m\u001b[0mdocx_file\u001b[0m \u001b[0;34m+\u001b[0m \u001b[0;34m\".docx\"\u001b[0m\u001b[0;34m)\u001b[0m\u001b[0;34m\u001b[0m\u001b[0;34m\u001b[0m\u001b[0m\n\u001b[0m\u001b[1;32m      3\u001b[0m     \u001b[0mrels\u001b[0m \u001b[0;34m=\u001b[0m \u001b[0mdocument\u001b[0m\u001b[0;34m.\u001b[0m\u001b[0mpart\u001b[0m\u001b[0;34m.\u001b[0m\u001b[0mrels\u001b[0m\u001b[0;34m\u001b[0m\u001b[0;34m\u001b[0m\u001b[0m\n",
      "\u001b[0;32m/opt/anaconda/envs/office-docs/lib/python3.9/site-packages/docx/api.py\u001b[0m in \u001b[0;36mDocument\u001b[0;34m(docx)\u001b[0m\n\u001b[1;32m     23\u001b[0m     \"\"\"\n\u001b[1;32m     24\u001b[0m     \u001b[0mdocx\u001b[0m \u001b[0;34m=\u001b[0m \u001b[0m_default_docx_path\u001b[0m\u001b[0;34m(\u001b[0m\u001b[0;34m)\u001b[0m \u001b[0;32mif\u001b[0m \u001b[0mdocx\u001b[0m \u001b[0;32mis\u001b[0m \u001b[0;32mNone\u001b[0m \u001b[0;32melse\u001b[0m \u001b[0mdocx\u001b[0m\u001b[0;34m\u001b[0m\u001b[0;34m\u001b[0m\u001b[0m\n\u001b[0;32m---> 25\u001b[0;31m     \u001b[0mdocument_part\u001b[0m \u001b[0;34m=\u001b[0m \u001b[0mPackage\u001b[0m\u001b[0;34m.\u001b[0m\u001b[0mopen\u001b[0m\u001b[0;34m(\u001b[0m\u001b[0mdocx\u001b[0m\u001b[0;34m)\u001b[0m\u001b[0;34m.\u001b[0m\u001b[0mmain_document_part\u001b[0m\u001b[0;34m\u001b[0m\u001b[0;34m\u001b[0m\u001b[0m\n\u001b[0m\u001b[1;32m     26\u001b[0m     \u001b[0;32mif\u001b[0m \u001b[0mdocument_part\u001b[0m\u001b[0;34m.\u001b[0m\u001b[0mcontent_type\u001b[0m \u001b[0;34m!=\u001b[0m \u001b[0mCT\u001b[0m\u001b[0;34m.\u001b[0m\u001b[0mWML_DOCUMENT_MAIN\u001b[0m\u001b[0;34m:\u001b[0m\u001b[0;34m\u001b[0m\u001b[0;34m\u001b[0m\u001b[0m\n\u001b[1;32m     27\u001b[0m         \u001b[0mtmpl\u001b[0m \u001b[0;34m=\u001b[0m \u001b[0;34m\"file '%s' is not a Word file, content type is '%s'\"\u001b[0m\u001b[0;34m\u001b[0m\u001b[0;34m\u001b[0m\u001b[0m\n",
      "\u001b[0;32m/opt/anaconda/envs/office-docs/lib/python3.9/site-packages/docx/opc/package.py\u001b[0m in \u001b[0;36mopen\u001b[0;34m(cls, pkg_file)\u001b[0m\n\u001b[1;32m    126\u001b[0m         \u001b[0;34m*\u001b[0m\u001b[0mpkg_file\u001b[0m\u001b[0;34m*\u001b[0m\u001b[0;34m.\u001b[0m\u001b[0;34m\u001b[0m\u001b[0;34m\u001b[0m\u001b[0m\n\u001b[1;32m    127\u001b[0m         \"\"\"\n\u001b[0;32m--> 128\u001b[0;31m         \u001b[0mpkg_reader\u001b[0m \u001b[0;34m=\u001b[0m \u001b[0mPackageReader\u001b[0m\u001b[0;34m.\u001b[0m\u001b[0mfrom_file\u001b[0m\u001b[0;34m(\u001b[0m\u001b[0mpkg_file\u001b[0m\u001b[0;34m)\u001b[0m\u001b[0;34m\u001b[0m\u001b[0;34m\u001b[0m\u001b[0m\n\u001b[0m\u001b[1;32m    129\u001b[0m         \u001b[0mpackage\u001b[0m \u001b[0;34m=\u001b[0m \u001b[0mcls\u001b[0m\u001b[0;34m(\u001b[0m\u001b[0;34m)\u001b[0m\u001b[0;34m\u001b[0m\u001b[0;34m\u001b[0m\u001b[0m\n\u001b[1;32m    130\u001b[0m         \u001b[0mUnmarshaller\u001b[0m\u001b[0;34m.\u001b[0m\u001b[0munmarshal\u001b[0m\u001b[0;34m(\u001b[0m\u001b[0mpkg_reader\u001b[0m\u001b[0;34m,\u001b[0m \u001b[0mpackage\u001b[0m\u001b[0;34m,\u001b[0m \u001b[0mPartFactory\u001b[0m\u001b[0;34m)\u001b[0m\u001b[0;34m\u001b[0m\u001b[0;34m\u001b[0m\u001b[0m\n",
      "\u001b[0;32m/opt/anaconda/envs/office-docs/lib/python3.9/site-packages/docx/opc/pkgreader.py\u001b[0m in \u001b[0;36mfrom_file\u001b[0;34m(pkg_file)\u001b[0m\n\u001b[1;32m     30\u001b[0m         \u001b[0mReturn\u001b[0m \u001b[0ma\u001b[0m \u001b[0;34m|\u001b[0m\u001b[0mPackageReader\u001b[0m\u001b[0;34m|\u001b[0m \u001b[0minstance\u001b[0m \u001b[0mloaded\u001b[0m \u001b[0;32mwith\u001b[0m \u001b[0mcontents\u001b[0m \u001b[0mof\u001b[0m \u001b[0;34m*\u001b[0m\u001b[0mpkg_file\u001b[0m\u001b[0;34m*\u001b[0m\u001b[0;34m.\u001b[0m\u001b[0;34m\u001b[0m\u001b[0;34m\u001b[0m\u001b[0m\n\u001b[1;32m     31\u001b[0m         \"\"\"\n\u001b[0;32m---> 32\u001b[0;31m         \u001b[0mphys_reader\u001b[0m \u001b[0;34m=\u001b[0m \u001b[0mPhysPkgReader\u001b[0m\u001b[0;34m(\u001b[0m\u001b[0mpkg_file\u001b[0m\u001b[0;34m)\u001b[0m\u001b[0;34m\u001b[0m\u001b[0;34m\u001b[0m\u001b[0m\n\u001b[0m\u001b[1;32m     33\u001b[0m         \u001b[0mcontent_types\u001b[0m \u001b[0;34m=\u001b[0m \u001b[0m_ContentTypeMap\u001b[0m\u001b[0;34m.\u001b[0m\u001b[0mfrom_xml\u001b[0m\u001b[0;34m(\u001b[0m\u001b[0mphys_reader\u001b[0m\u001b[0;34m.\u001b[0m\u001b[0mcontent_types_xml\u001b[0m\u001b[0;34m)\u001b[0m\u001b[0;34m\u001b[0m\u001b[0;34m\u001b[0m\u001b[0m\n\u001b[1;32m     34\u001b[0m         \u001b[0mpkg_srels\u001b[0m \u001b[0;34m=\u001b[0m \u001b[0mPackageReader\u001b[0m\u001b[0;34m.\u001b[0m\u001b[0m_srels_for\u001b[0m\u001b[0;34m(\u001b[0m\u001b[0mphys_reader\u001b[0m\u001b[0;34m,\u001b[0m \u001b[0mPACKAGE_URI\u001b[0m\u001b[0;34m)\u001b[0m\u001b[0;34m\u001b[0m\u001b[0;34m\u001b[0m\u001b[0m\n",
      "\u001b[0;32m/opt/anaconda/envs/office-docs/lib/python3.9/site-packages/docx/opc/phys_pkg.py\u001b[0m in \u001b[0;36m__new__\u001b[0;34m(cls, pkg_file)\u001b[0m\n\u001b[1;32m     28\u001b[0m                 \u001b[0mreader_cls\u001b[0m \u001b[0;34m=\u001b[0m \u001b[0m_ZipPkgReader\u001b[0m\u001b[0;34m\u001b[0m\u001b[0;34m\u001b[0m\u001b[0m\n\u001b[1;32m     29\u001b[0m             \u001b[0;32melse\u001b[0m\u001b[0;34m:\u001b[0m\u001b[0;34m\u001b[0m\u001b[0;34m\u001b[0m\u001b[0m\n\u001b[0;32m---> 30\u001b[0;31m                 raise PackageNotFoundError(\n\u001b[0m\u001b[1;32m     31\u001b[0m                     \u001b[0;34m\"Package not found at '%s'\"\u001b[0m \u001b[0;34m%\u001b[0m \u001b[0mpkg_file\u001b[0m\u001b[0;34m\u001b[0m\u001b[0;34m\u001b[0m\u001b[0m\n\u001b[1;32m     32\u001b[0m                 )\n",
      "\u001b[0;31mPackageNotFoundError\u001b[0m: Package not found at 'demo.docx.docx'"
     ]
    }
   ],
   "source": [
    "for key, element in docx_dict.items():\n",
    "    document = Document(docx_file + \".docx\")\n",
    "    rels = document.part.rels"
   ]
  },
  {
   "cell_type": "code",
   "execution_count": 16,
   "id": "1094f24a-0b7c-4346-9b9c-6464b77ed46c",
   "metadata": {
    "execution": {
     "iopub.execute_input": "2021-09-21T19:58:05.895085Z",
     "iopub.status.busy": "2021-09-21T19:58:05.894631Z",
     "iopub.status.idle": "2021-09-21T19:58:37.327787Z",
     "shell.execute_reply": "2021-09-21T19:58:37.320787Z",
     "shell.execute_reply.started": "2021-09-21T19:58:05.895033Z"
    },
    "tags": []
   },
   "outputs": [
    {
     "name": "stdout",
     "output_type": "stream",
     "text": [
      " This program changes the hyperlinks detected in a word .docx file \n",
      "\n"
     ]
    },
    {
     "name": "stdin",
     "output_type": "stream",
     "text": [
      " Pls input docx filename (without .docx):  demo.docx\n"
     ]
    },
    {
     "ename": "PackageNotFoundError",
     "evalue": "Package not found at 'demo.docx.docx'",
     "output_type": "error",
     "traceback": [
      "\u001b[0;31m---------------------------------------------------------------------------\u001b[0m",
      "\u001b[0;31mPackageNotFoundError\u001b[0m                      Traceback (most recent call last)",
      "\u001b[0;32m/tmp/ipykernel_45690/1840303258.py\u001b[0m in \u001b[0;36m<module>\u001b[0;34m\u001b[0m\n\u001b[1;32m      3\u001b[0m \u001b[0mdocx_file\u001b[0m\u001b[0;34m=\u001b[0m\u001b[0minput\u001b[0m\u001b[0;34m(\u001b[0m\u001b[0;34m\" Pls input docx filename (without .docx): \"\u001b[0m\u001b[0;34m)\u001b[0m\u001b[0;34m\u001b[0m\u001b[0;34m\u001b[0m\u001b[0m\n\u001b[1;32m      4\u001b[0m \u001b[0;34m\u001b[0m\u001b[0m\n\u001b[0;32m----> 5\u001b[0;31m \u001b[0mdocument\u001b[0m \u001b[0;34m=\u001b[0m \u001b[0mDocument\u001b[0m\u001b[0;34m(\u001b[0m\u001b[0mdocx_file\u001b[0m \u001b[0;34m+\u001b[0m \u001b[0;34m\".docx\"\u001b[0m\u001b[0;34m)\u001b[0m\u001b[0;34m\u001b[0m\u001b[0;34m\u001b[0m\u001b[0m\n\u001b[0m\u001b[1;32m      6\u001b[0m \u001b[0;34m\u001b[0m\u001b[0m\n\u001b[1;32m      7\u001b[0m \u001b[0mrels\u001b[0m \u001b[0;34m=\u001b[0m \u001b[0mdocument\u001b[0m\u001b[0;34m.\u001b[0m\u001b[0mpart\u001b[0m\u001b[0;34m.\u001b[0m\u001b[0mrels\u001b[0m\u001b[0;34m\u001b[0m\u001b[0;34m\u001b[0m\u001b[0m\n",
      "\u001b[0;32m/opt/anaconda/envs/office-docs/lib/python3.9/site-packages/docx/api.py\u001b[0m in \u001b[0;36mDocument\u001b[0;34m(docx)\u001b[0m\n\u001b[1;32m     23\u001b[0m     \"\"\"\n\u001b[1;32m     24\u001b[0m     \u001b[0mdocx\u001b[0m \u001b[0;34m=\u001b[0m \u001b[0m_default_docx_path\u001b[0m\u001b[0;34m(\u001b[0m\u001b[0;34m)\u001b[0m \u001b[0;32mif\u001b[0m \u001b[0mdocx\u001b[0m \u001b[0;32mis\u001b[0m \u001b[0;32mNone\u001b[0m \u001b[0;32melse\u001b[0m \u001b[0mdocx\u001b[0m\u001b[0;34m\u001b[0m\u001b[0;34m\u001b[0m\u001b[0m\n\u001b[0;32m---> 25\u001b[0;31m     \u001b[0mdocument_part\u001b[0m \u001b[0;34m=\u001b[0m \u001b[0mPackage\u001b[0m\u001b[0;34m.\u001b[0m\u001b[0mopen\u001b[0m\u001b[0;34m(\u001b[0m\u001b[0mdocx\u001b[0m\u001b[0;34m)\u001b[0m\u001b[0;34m.\u001b[0m\u001b[0mmain_document_part\u001b[0m\u001b[0;34m\u001b[0m\u001b[0;34m\u001b[0m\u001b[0m\n\u001b[0m\u001b[1;32m     26\u001b[0m     \u001b[0;32mif\u001b[0m \u001b[0mdocument_part\u001b[0m\u001b[0;34m.\u001b[0m\u001b[0mcontent_type\u001b[0m \u001b[0;34m!=\u001b[0m \u001b[0mCT\u001b[0m\u001b[0;34m.\u001b[0m\u001b[0mWML_DOCUMENT_MAIN\u001b[0m\u001b[0;34m:\u001b[0m\u001b[0;34m\u001b[0m\u001b[0;34m\u001b[0m\u001b[0m\n\u001b[1;32m     27\u001b[0m         \u001b[0mtmpl\u001b[0m \u001b[0;34m=\u001b[0m \u001b[0;34m\"file '%s' is not a Word file, content type is '%s'\"\u001b[0m\u001b[0;34m\u001b[0m\u001b[0;34m\u001b[0m\u001b[0m\n",
      "\u001b[0;32m/opt/anaconda/envs/office-docs/lib/python3.9/site-packages/docx/opc/package.py\u001b[0m in \u001b[0;36mopen\u001b[0;34m(cls, pkg_file)\u001b[0m\n\u001b[1;32m    126\u001b[0m         \u001b[0;34m*\u001b[0m\u001b[0mpkg_file\u001b[0m\u001b[0;34m*\u001b[0m\u001b[0;34m.\u001b[0m\u001b[0;34m\u001b[0m\u001b[0;34m\u001b[0m\u001b[0m\n\u001b[1;32m    127\u001b[0m         \"\"\"\n\u001b[0;32m--> 128\u001b[0;31m         \u001b[0mpkg_reader\u001b[0m \u001b[0;34m=\u001b[0m \u001b[0mPackageReader\u001b[0m\u001b[0;34m.\u001b[0m\u001b[0mfrom_file\u001b[0m\u001b[0;34m(\u001b[0m\u001b[0mpkg_file\u001b[0m\u001b[0;34m)\u001b[0m\u001b[0;34m\u001b[0m\u001b[0;34m\u001b[0m\u001b[0m\n\u001b[0m\u001b[1;32m    129\u001b[0m         \u001b[0mpackage\u001b[0m \u001b[0;34m=\u001b[0m \u001b[0mcls\u001b[0m\u001b[0;34m(\u001b[0m\u001b[0;34m)\u001b[0m\u001b[0;34m\u001b[0m\u001b[0;34m\u001b[0m\u001b[0m\n\u001b[1;32m    130\u001b[0m         \u001b[0mUnmarshaller\u001b[0m\u001b[0;34m.\u001b[0m\u001b[0munmarshal\u001b[0m\u001b[0;34m(\u001b[0m\u001b[0mpkg_reader\u001b[0m\u001b[0;34m,\u001b[0m \u001b[0mpackage\u001b[0m\u001b[0;34m,\u001b[0m \u001b[0mPartFactory\u001b[0m\u001b[0;34m)\u001b[0m\u001b[0;34m\u001b[0m\u001b[0;34m\u001b[0m\u001b[0m\n",
      "\u001b[0;32m/opt/anaconda/envs/office-docs/lib/python3.9/site-packages/docx/opc/pkgreader.py\u001b[0m in \u001b[0;36mfrom_file\u001b[0;34m(pkg_file)\u001b[0m\n\u001b[1;32m     30\u001b[0m         \u001b[0mReturn\u001b[0m \u001b[0ma\u001b[0m \u001b[0;34m|\u001b[0m\u001b[0mPackageReader\u001b[0m\u001b[0;34m|\u001b[0m \u001b[0minstance\u001b[0m \u001b[0mloaded\u001b[0m \u001b[0;32mwith\u001b[0m \u001b[0mcontents\u001b[0m \u001b[0mof\u001b[0m \u001b[0;34m*\u001b[0m\u001b[0mpkg_file\u001b[0m\u001b[0;34m*\u001b[0m\u001b[0;34m.\u001b[0m\u001b[0;34m\u001b[0m\u001b[0;34m\u001b[0m\u001b[0m\n\u001b[1;32m     31\u001b[0m         \"\"\"\n\u001b[0;32m---> 32\u001b[0;31m         \u001b[0mphys_reader\u001b[0m \u001b[0;34m=\u001b[0m \u001b[0mPhysPkgReader\u001b[0m\u001b[0;34m(\u001b[0m\u001b[0mpkg_file\u001b[0m\u001b[0;34m)\u001b[0m\u001b[0;34m\u001b[0m\u001b[0;34m\u001b[0m\u001b[0m\n\u001b[0m\u001b[1;32m     33\u001b[0m         \u001b[0mcontent_types\u001b[0m \u001b[0;34m=\u001b[0m \u001b[0m_ContentTypeMap\u001b[0m\u001b[0;34m.\u001b[0m\u001b[0mfrom_xml\u001b[0m\u001b[0;34m(\u001b[0m\u001b[0mphys_reader\u001b[0m\u001b[0;34m.\u001b[0m\u001b[0mcontent_types_xml\u001b[0m\u001b[0;34m)\u001b[0m\u001b[0;34m\u001b[0m\u001b[0;34m\u001b[0m\u001b[0m\n\u001b[1;32m     34\u001b[0m         \u001b[0mpkg_srels\u001b[0m \u001b[0;34m=\u001b[0m \u001b[0mPackageReader\u001b[0m\u001b[0;34m.\u001b[0m\u001b[0m_srels_for\u001b[0m\u001b[0;34m(\u001b[0m\u001b[0mphys_reader\u001b[0m\u001b[0;34m,\u001b[0m \u001b[0mPACKAGE_URI\u001b[0m\u001b[0;34m)\u001b[0m\u001b[0;34m\u001b[0m\u001b[0;34m\u001b[0m\u001b[0m\n",
      "\u001b[0;32m/opt/anaconda/envs/office-docs/lib/python3.9/site-packages/docx/opc/phys_pkg.py\u001b[0m in \u001b[0;36m__new__\u001b[0;34m(cls, pkg_file)\u001b[0m\n\u001b[1;32m     28\u001b[0m                 \u001b[0mreader_cls\u001b[0m \u001b[0;34m=\u001b[0m \u001b[0m_ZipPkgReader\u001b[0m\u001b[0;34m\u001b[0m\u001b[0;34m\u001b[0m\u001b[0m\n\u001b[1;32m     29\u001b[0m             \u001b[0;32melse\u001b[0m\u001b[0;34m:\u001b[0m\u001b[0;34m\u001b[0m\u001b[0;34m\u001b[0m\u001b[0m\n\u001b[0;32m---> 30\u001b[0;31m                 raise PackageNotFoundError(\n\u001b[0m\u001b[1;32m     31\u001b[0m                     \u001b[0;34m\"Package not found at '%s'\"\u001b[0m \u001b[0;34m%\u001b[0m \u001b[0mpkg_file\u001b[0m\u001b[0;34m\u001b[0m\u001b[0;34m\u001b[0m\u001b[0m\n\u001b[1;32m     32\u001b[0m                 )\n",
      "\u001b[0;31mPackageNotFoundError\u001b[0m: Package not found at 'demo.docx.docx'"
     ]
    }
   ],
   "source": [
    "\n",
    "print(\" This program changes the hyperlinks detected in a word .docx file \\n\")\n",
    "\n",
    "docx_file=input(\" Pls input docx filename (without .docx): \")\n",
    "\n",
    "document = Document(docx_file + \".docx\")\n",
    "\n",
    "rels = document.part.rels\n",
    "\n",
    "for rel in rels:\n",
    "   if rels[rel].reltype == RT.HYPERLINK:\n",
    "      print(\"\\n Original link id -\", rel, \"with detected URL: \", rels[rel]._target)\n"
   ]
  },
  {
   "cell_type": "markdown",
   "id": "11ec76d2-cec8-425e-a0ea-41da867aae9c",
   "metadata": {},
   "source": [
    "# Move the docx files to the correct locations\n",
    "1. Use the management sheet to define old location to new location"
   ]
  },
  {
   "cell_type": "code",
   "execution_count": null,
   "id": "82482424-b933-404a-b56d-ad4170a79aff",
   "metadata": {},
   "outputs": [],
   "source": []
  },
  {
   "cell_type": "code",
   "execution_count": null,
   "id": "3d36349e-50e3-45eb-95be-6b7211cfa89e",
   "metadata": {},
   "outputs": [],
   "source": []
  },
  {
   "cell_type": "code",
   "execution_count": null,
   "id": "3a8cf54d-b655-4f35-ae47-91e3c8ec5375",
   "metadata": {},
   "outputs": [],
   "source": []
  },
  {
   "cell_type": "markdown",
   "id": "779f9b41-6a72-4666-84fc-f43a57f2419e",
   "metadata": {},
   "source": []
  },
  {
   "cell_type": "code",
   "execution_count": null,
   "id": "7379f8a3-8517-4eaf-bdc3-03fa3567f197",
   "metadata": {},
   "outputs": [],
   "source": []
  },
  {
   "cell_type": "code",
   "execution_count": 2,
   "id": "cb14cdf0-89e4-4a69-9e5a-e7cf56be64ba",
   "metadata": {
    "execution": {
     "iopub.execute_input": "2021-09-20T06:16:25.642628Z",
     "iopub.status.busy": "2021-09-20T06:16:25.642139Z",
     "iopub.status.idle": "2021-09-20T06:16:25.668971Z",
     "shell.execute_reply": "2021-09-20T06:16:25.667383Z",
     "shell.execute_reply.started": "2021-09-20T06:16:25.642571Z"
    },
    "tags": []
   },
   "outputs": [
    {
     "data": {
      "text/plain": [
       "7"
      ]
     },
     "execution_count": 2,
     "metadata": {},
     "output_type": "execute_result"
    }
   ],
   "source": [
    "liststring = 'hello I am me and you are you'\n",
    "\n",
    "liststring.count(' ')"
   ]
  },
  {
   "cell_type": "code",
   "execution_count": null,
   "id": "50693625-83d7-4024-be8d-4f6165bc2708",
   "metadata": {
    "execution": {
     "iopub.execute_input": "2021-09-12T19:52:05.765732Z",
     "iopub.status.busy": "2021-09-12T19:52:05.765122Z",
     "iopub.status.idle": "2021-09-12T19:52:06.006942Z",
     "shell.execute_reply": "2021-09-12T19:52:06.003044Z",
     "shell.execute_reply.started": "2021-09-12T19:52:05.765660Z"
    },
    "tags": []
   },
   "outputs": [],
   "source": [
    "import docx\n",
    "def add_hyperlink(paragraph, url, text, color, underline):\n",
    "    \"\"\"\n",
    "    A function that places a hyperlink within a paragraph object.\n",
    "\n",
    "    :param paragraph: The paragraph we are adding the hyperlink to.\n",
    "    :param url: A string containing the required url\n",
    "    :param text: The text displayed for the url\n",
    "    :return: The hyperlink object\n",
    "    \"\"\"\n",
    "\n",
    "    # This gets access to the document.xml.rels file and gets a new relation id value\n",
    "    part = paragraph.part\n",
    "    r_id = part.relate_to(url, docx.opc.constants.RELATIONSHIP_TYPE.HYPERLINK, is_external=True)\n",
    "\n",
    "    # Create the w:hyperlink tag and add needed values\n",
    "    hyperlink = docx.oxml.shared.OxmlElement('w:hyperlink')\n",
    "    hyperlink.set(docx.oxml.shared.qn('r:id'), r_id, )\n",
    "\n",
    "    # Create a w:r element\n",
    "    new_run = docx.oxml.shared.OxmlElement('w:r')\n",
    "\n",
    "    # Create a new w:rPr element\n",
    "    rPr = docx.oxml.shared.OxmlElement('w:rPr')\n",
    "\n",
    "    # Add color if it is given\n",
    "    if not color is None:\n",
    "      c = docx.oxml.shared.OxmlElement('w:color')\n",
    "      c.set(docx.oxml.shared.qn('w:val'), color)\n",
    "      rPr.append(c)\n",
    "\n",
    "    # Remove underlining if it is requested\n",
    "    if not underline:\n",
    "      u = docx.oxml.shared.OxmlElement('w:u')\n",
    "      u.set(docx.oxml.shared.qn('w:val'), 'none')\n",
    "      rPr.append(u)\n",
    "\n",
    "    # Join all the xml elements together add add the required text to the w:r element\n",
    "    new_run.append(rPr)\n",
    "    new_run.text = text\n",
    "    hyperlink.append(new_run)\n",
    "\n",
    "    paragraph._p.append(hyperlink)\n",
    "\n",
    "    return hyperlink\n",
    "\n",
    "\n",
    "\n",
    "# document = docx.Document()\n",
    "p = document.add_paragraph()\n",
    "\n",
    "#add a hyperlink with the normal formatting (blue underline)\n",
    "hyperlink = add_hyperlink(p, 'http://www.google.com', 'Google', None, True)\n",
    "\n",
    "\n",
    "#add a hyperlink with a custom color and no underline\n",
    "hyperlink = add_hyperlink(p, 'http://www.google.com', 'Google', 'FF8822', False)\n",
    "\n",
    "document.save('demo2.docx')"
   ]
  },
  {
   "cell_type": "code",
   "execution_count": null,
   "id": "ed65686e-0603-4268-b459-6b06e00c2de2",
   "metadata": {
    "execution": {
     "iopub.execute_input": "2021-09-20T06:17:14.259829Z",
     "iopub.status.busy": "2021-09-20T06:17:14.259302Z",
     "iopub.status.idle": "2021-09-20T06:17:14.395188Z",
     "shell.execute_reply": "2021-09-20T06:17:14.393832Z",
     "shell.execute_reply.started": "2021-09-20T06:17:14.259767Z"
    },
    "tags": []
   },
   "outputs": [
    {
     "ename": "NameError",
     "evalue": "name 'docx_file' is not defined",
     "output_type": "error",
     "traceback": [
      "\u001b[0;31m---------------------------------------------------------------------------\u001b[0m",
      "\u001b[0;31mNameError\u001b[0m                                 Traceback (most recent call last)",
      "\u001b[0;32m/tmp/ipykernel_16777/999605301.py\u001b[0m in \u001b[0;36m<module>\u001b[0;34m\u001b[0m\n\u001b[0;32m----> 1\u001b[0;31m \u001b[0mout_file\u001b[0m\u001b[0;34m=\u001b[0m\u001b[0mdocx_file\u001b[0m \u001b[0;34m+\u001b[0m \u001b[0;34m\"test-out.docx\"\u001b[0m\u001b[0;34m\u001b[0m\u001b[0;34m\u001b[0m\u001b[0m\n\u001b[0m\u001b[1;32m      2\u001b[0m \u001b[0;34m\u001b[0m\u001b[0m\n\u001b[1;32m      3\u001b[0m \u001b[0mdocument\u001b[0m\u001b[0;34m.\u001b[0m\u001b[0msave\u001b[0m\u001b[0;34m(\u001b[0m\u001b[0mout_file\u001b[0m\u001b[0;34m)\u001b[0m\u001b[0;34m\u001b[0m\u001b[0;34m\u001b[0m\u001b[0m\n\u001b[1;32m      4\u001b[0m \u001b[0;34m\u001b[0m\u001b[0m\n\u001b[1;32m      5\u001b[0m \u001b[0mprint\u001b[0m\u001b[0;34m(\u001b[0m\u001b[0;34m\"\\n File saved to: \"\u001b[0m\u001b[0;34m,\u001b[0m \u001b[0mout_file\u001b[0m\u001b[0;34m)\u001b[0m\u001b[0;34m\u001b[0m\u001b[0;34m\u001b[0m\u001b[0m\n",
      "\u001b[0;31mNameError\u001b[0m: name 'docx_file' is not defined"
     ]
    }
   ],
   "source": [
    "out_file=docx_file + \"test-out.docx\"\n",
    "\n",
    "document.save(out_file)\n",
    "\n",
    "print(\"\\n File saved to: \", out_file)"
   ]
  },
  {
   "cell_type": "code",
   "execution_count": null,
   "id": "bf1d41c9-912b-4c8c-8869-9eb8ddde8742",
   "metadata": {},
   "outputs": [],
   "source": []
  },
  {
   "cell_type": "code",
   "execution_count": null,
   "id": "1c1a4d08-fc5d-463d-92c2-9aa9ebabd35f",
   "metadata": {},
   "outputs": [],
   "source": []
  },
  {
   "cell_type": "code",
   "execution_count": null,
   "id": "35e6ff79-0fcf-4bc3-acf4-5a4f34c7a3ac",
   "metadata": {},
   "outputs": [],
   "source": []
  },
  {
   "cell_type": "code",
   "execution_count": 12,
   "id": "fb5354a3-ef14-48d1-a8d2-db6722cdac98",
   "metadata": {
    "execution": {
     "iopub.execute_input": "2021-09-20T06:21:49.267916Z",
     "iopub.status.busy": "2021-09-20T06:21:49.267396Z",
     "iopub.status.idle": "2021-09-20T06:23:42.301581Z",
     "shell.execute_reply": "2021-09-20T06:23:42.300084Z",
     "shell.execute_reply.started": "2021-09-20T06:21:49.267852Z"
    },
    "tags": []
   },
   "outputs": [
    {
     "name": "stdout",
     "output_type": "stream",
     "text": [
      " This program changes the hyperlinks detected in a word .docx file \n",
      "\n"
     ]
    },
    {
     "name": "stdin",
     "output_type": "stream",
     "text": [
      " Pls input docx filename (without .docx):  demo\n"
     ]
    },
    {
     "name": "stdout",
     "output_type": "stream",
     "text": [
      "\n",
      " Original link id - rId11 with detected URL:  http://./document3.docx\n"
     ]
    },
    {
     "name": "stdin",
     "output_type": "stream",
     "text": [
      " Pls input new URL:  http://test.doc3.docx\n"
     ]
    },
    {
     "name": "stdout",
     "output_type": "stream",
     "text": [
      "\n",
      " Original link id - rId10 with detected URL:  http://./documenttwo.docx\n"
     ]
    },
    {
     "name": "stdin",
     "output_type": "stream",
     "text": [
      " Pls input new URL:  http://test.doc2.docx\n"
     ]
    },
    {
     "name": "stdout",
     "output_type": "stream",
     "text": [
      "\n",
      " Original link id - rId9 with detected URL:  http://./documentone.docx\n"
     ]
    },
    {
     "name": "stdin",
     "output_type": "stream",
     "text": [
      " Pls input new URL:  aaa\n"
     ]
    },
    {
     "name": "stdout",
     "output_type": "stream",
     "text": [
      "\n",
      " Original link id - rId6 with detected URL:  http://./documentone.docx\n"
     ]
    },
    {
     "name": "stdin",
     "output_type": "stream",
     "text": [
      " Pls input new URL:  bbb\n"
     ]
    },
    {
     "name": "stdout",
     "output_type": "stream",
     "text": [
      "\n",
      " Original link id - rId7 with detected URL:  http://./documenttwo.docx\n"
     ]
    },
    {
     "name": "stdin",
     "output_type": "stream",
     "text": [
      " Pls input new URL:  ccc\n"
     ]
    },
    {
     "name": "stdout",
     "output_type": "stream",
     "text": [
      "\n",
      " Original link id - rId8 with detected URL:  http://./document3.docx\n"
     ]
    },
    {
     "name": "stdin",
     "output_type": "stream",
     "text": [
      " Pls input new URL:  ddd\n"
     ]
    },
    {
     "name": "stdout",
     "output_type": "stream",
     "text": [
      "\n",
      " File saved to:  demo-out.docx\n"
     ]
    }
   ],
   "source": [
    "# This seems to work well and can be adapted\n",
    "\n",
    "print(\" This program changes the hyperlinks detected in a word .docx file \\n\")\n",
    "\n",
    "docx_file=input(\" Pls input docx filename (without .docx): \")\n",
    "\n",
    "document = Document(docx_file + \".docx\")\n",
    "\n",
    "rels = document.part.rels\n",
    "\n",
    "for rel in rels:\n",
    "   if rels[rel].reltype == RT.HYPERLINK:\n",
    "      print(\"\\n Original link id -\", rel, \"with detected URL: \", rels[rel]._target)\n",
    "      new_url=input(\" Pls input new URL: \")\n",
    "      rels[rel]._target=new_url\n",
    "\n",
    "out_file=docx_file + \"-out.docx\"\n",
    "\n",
    "document.save(out_file)\n",
    "\n",
    "print(\"\\n File saved to: \", out_file)"
   ]
  },
  {
   "cell_type": "code",
   "execution_count": null,
   "id": "9e684df5-00f5-4f18-b967-1b1652f35d77",
   "metadata": {},
   "outputs": [],
   "source": []
  },
  {
   "cell_type": "code",
   "execution_count": null,
   "id": "452106f4-e772-45dd-b0e3-0b0e6eceec8a",
   "metadata": {},
   "outputs": [],
   "source": []
  },
  {
   "cell_type": "code",
   "execution_count": null,
   "id": "b2851d16-eddc-4847-802c-a7f2fe6c5420",
   "metadata": {},
   "outputs": [],
   "source": []
  },
  {
   "cell_type": "code",
   "execution_count": null,
   "id": "b2340ebd-ea7e-4fe4-93f4-6aba77585760",
   "metadata": {},
   "outputs": [],
   "source": []
  },
  {
   "cell_type": "code",
   "execution_count": null,
   "id": "07718760-f5dd-4886-b924-840e4d264ca9",
   "metadata": {},
   "outputs": [],
   "source": []
  },
  {
   "cell_type": "code",
   "execution_count": 14,
   "id": "a3483501-5372-4e31-bc15-4a0cf9756514",
   "metadata": {
    "execution": {
     "iopub.execute_input": "2021-09-20T06:27:18.505492Z",
     "iopub.status.busy": "2021-09-20T06:27:18.504909Z",
     "iopub.status.idle": "2021-09-20T06:27:18.519441Z",
     "shell.execute_reply": "2021-09-20T06:27:18.517089Z",
     "shell.execute_reply.started": "2021-09-20T06:27:18.505425Z"
    },
    "tags": []
   },
   "outputs": [
    {
     "ename": "SyntaxError",
     "evalue": "invalid syntax (124870161.py, line 1)",
     "output_type": "error",
     "traceback": [
      "\u001b[0;36m  File \u001b[0;32m\"/tmp/ipykernel_16777/124870161.py\"\u001b[0;36m, line \u001b[0;32m1\u001b[0m\n\u001b[0;31m    rels.[rel]._target\u001b[0m\n\u001b[0m         ^\u001b[0m\n\u001b[0;31mSyntaxError\u001b[0m\u001b[0;31m:\u001b[0m invalid syntax\n"
     ]
    }
   ],
   "source": [
    "rels.[rel]._target"
   ]
  },
  {
   "cell_type": "code",
   "execution_count": null,
   "id": "970547b6-e4cd-40e5-8ffe-8f3d39b24bf9",
   "metadata": {},
   "outputs": [],
   "source": []
  },
  {
   "cell_type": "code",
   "execution_count": null,
   "id": "23afac4f-f32b-4caa-a7c6-1aff06b3cbe4",
   "metadata": {},
   "outputs": [],
   "source": []
  },
  {
   "cell_type": "code",
   "execution_count": 42,
   "id": "8f36ef2e-e21f-4bcc-8687-d5c6eb102f21",
   "metadata": {
    "execution": {
     "iopub.execute_input": "2021-09-12T19:43:27.818129Z",
     "iopub.status.busy": "2021-09-12T19:43:27.817557Z",
     "iopub.status.idle": "2021-09-12T19:43:27.828488Z",
     "shell.execute_reply": "2021-09-12T19:43:27.826204Z",
     "shell.execute_reply.started": "2021-09-12T19:43:27.818061Z"
    },
    "tags": []
   },
   "outputs": [
    {
     "ename": "SyntaxError",
     "evalue": "invalid syntax (253381674.py, line 1)",
     "output_type": "error",
     "traceback": [
      "\u001b[0;36m  File \u001b[0;32m\"/tmp/ipykernel_23520/253381674.py\"\u001b[0;36m, line \u001b[0;32m1\u001b[0m\n\u001b[0;31m    rels[rel].[0]\u001b[0m\n\u001b[0m              ^\u001b[0m\n\u001b[0;31mSyntaxError\u001b[0m\u001b[0;31m:\u001b[0m invalid syntax\n"
     ]
    }
   ],
   "source": [
    "rels[rel]._"
   ]
  },
  {
   "cell_type": "code",
   "execution_count": null,
   "id": "7fdbcfa2-c2e7-4496-9333-bbf11daf5d4b",
   "metadata": {},
   "outputs": [],
   "source": []
  }
 ],
 "metadata": {
  "kernelspec": {
   "display_name": "office-docs",
   "language": "python",
   "name": "office-docs"
  },
  "language_info": {
   "codemirror_mode": {
    "name": "ipython",
    "version": 3
   },
   "file_extension": ".py",
   "mimetype": "text/x-python",
   "name": "python",
   "nbconvert_exporter": "python",
   "pygments_lexer": "ipython3",
   "version": "3.9.7"
  }
 },
 "nbformat": 4,
 "nbformat_minor": 5
}
