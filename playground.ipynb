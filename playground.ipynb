{
 "cells": [
  {
   "cell_type": "code",
   "execution_count": 28,
   "id": "f3f27034-4fdb-4587-bf6f-335c235186cd",
   "metadata": {
    "execution": {
     "iopub.execute_input": "2021-09-12T08:22:32.074945Z",
     "iopub.status.busy": "2021-09-12T08:22:32.074404Z",
     "iopub.status.idle": "2021-09-12T08:22:32.086397Z",
     "shell.execute_reply": "2021-09-12T08:22:32.084473Z",
     "shell.execute_reply.started": "2021-09-12T08:22:32.074880Z"
    },
    "tags": []
   },
   "outputs": [],
   "source": [
    "from docx import Document"
   ]
  },
  {
   "cell_type": "code",
   "execution_count": 29,
   "id": "b69be439-870d-45ec-8e03-cbc25846f7ac",
   "metadata": {
    "execution": {
     "iopub.execute_input": "2021-09-12T08:22:33.816207Z",
     "iopub.status.busy": "2021-09-12T08:22:33.815738Z",
     "iopub.status.idle": "2021-09-12T08:22:33.831150Z",
     "shell.execute_reply": "2021-09-12T08:22:33.829459Z",
     "shell.execute_reply.started": "2021-09-12T08:22:33.816151Z"
    },
    "tags": []
   },
   "outputs": [],
   "source": [
    "document = Document('/home/stuart/Development/2021/09-Sep/docx-replace/test_one.docx')"
   ]
  },
  {
   "cell_type": "code",
   "execution_count": 30,
   "id": "6793594d-25da-4d1c-a724-a0a9d9eed64e",
   "metadata": {
    "execution": {
     "iopub.execute_input": "2021-09-12T08:22:34.531205Z",
     "iopub.status.busy": "2021-09-12T08:22:34.530780Z",
     "iopub.status.idle": "2021-09-12T08:22:34.545559Z",
     "shell.execute_reply": "2021-09-12T08:22:34.543240Z",
     "shell.execute_reply.started": "2021-09-12T08:22:34.531153Z"
    },
    "tags": []
   },
   "outputs": [
    {
     "name": "stdout",
     "output_type": "stream",
     "text": [
      "Sdasdsa\n",
      "\n",
      "Sadad\n",
      "a\n",
      "\n",
      "\n",
      "The is the index document\n",
      "\n",
      "\n",
      "\n",
      "\n",
      "\n",
      "\n",
      "\n",
      "\n",
      "\n",
      "\n",
      "\n"
     ]
    }
   ],
   "source": [
    "for paragraph in document.paragraphs:\n",
    "    print(paragraph.text)"
   ]
  },
  {
   "cell_type": "code",
   "execution_count": 25,
   "id": "e395bcb1-63aa-4308-ac76-982ccd78be16",
   "metadata": {
    "execution": {
     "iopub.execute_input": "2021-09-12T07:47:41.241866Z",
     "iopub.status.busy": "2021-09-12T07:47:41.241453Z",
     "iopub.status.idle": "2021-09-12T07:47:41.251544Z",
     "shell.execute_reply": "2021-09-12T07:47:41.250640Z",
     "shell.execute_reply.started": "2021-09-12T07:47:41.241836Z"
    },
    "tags": []
   },
   "outputs": [],
   "source": [
    "for table in document.tables:\n",
    "    for row in table.rows:\n",
    "        for cell in row.cells:\n",
    "            for paragraph in cell.paragraphs:\n",
    "                if 'Type' in paragraph.text:\n",
    "                    paragraph.text = paragraph.text.replace(\"Type\", \"Version\")"
   ]
  },
  {
   "cell_type": "code",
   "execution_count": 26,
   "id": "cd777a4b-9cef-44cf-b01e-0423919d3997",
   "metadata": {
    "execution": {
     "iopub.execute_input": "2021-09-12T07:47:49.778977Z",
     "iopub.status.busy": "2021-09-12T07:47:49.778232Z",
     "iopub.status.idle": "2021-09-12T07:47:49.795825Z",
     "shell.execute_reply": "2021-09-12T07:47:49.795012Z",
     "shell.execute_reply.started": "2021-09-12T07:47:49.778892Z"
    },
    "tags": []
   },
   "outputs": [
    {
     "name": "stdout",
     "output_type": "stream",
     "text": [
      "File\n",
      "File\n",
      "Link\n",
      "Link\n",
      "Version\n",
      "Version\n",
      "Doc 1\n",
      "Doc 1\n",
      "\n",
      "\n",
      "\n",
      "\n",
      "Doc 2\n",
      "Doc 2\n",
      "\n",
      "\n",
      "\n",
      "\n",
      "Doc 3\n",
      "Doc 3\n",
      "\n",
      "\n",
      "\n",
      "\n"
     ]
    }
   ],
   "source": [
    "for table in document.tables:\n",
    "    for row in table.rows:\n",
    "        for cell in row.cells:\n",
    "            print(cell.text)\n",
    "            print(cell.part)"
   ]
  },
  {
   "cell_type": "code",
   "execution_count": 27,
   "id": "42fb6c67-a9f8-4a0c-991d-32f249e962c4",
   "metadata": {
    "execution": {
     "iopub.execute_input": "2021-09-12T08:16:54.914725Z",
     "iopub.status.busy": "2021-09-12T08:16:54.914403Z",
     "iopub.status.idle": "2021-09-12T08:16:54.922169Z",
     "shell.execute_reply": "2021-09-12T08:16:54.921346Z",
     "shell.execute_reply.started": "2021-09-12T08:16:54.914660Z"
    }
   },
   "outputs": [],
   "source": [
    "document.save('demo.docx')"
   ]
  },
  {
   "cell_type": "code",
   "execution_count": null,
   "id": "e9d6218c-b959-4856-9d4e-01be59c216fe",
   "metadata": {},
   "outputs": [],
   "source": []
  }
 ],
 "metadata": {
  "kernelspec": {
   "display_name": "office-docs",
   "language": "python",
   "name": "office-docs"
  },
  "language_info": {
   "codemirror_mode": {
    "name": "ipython",
    "version": 3
   },
   "file_extension": ".py",
   "mimetype": "text/x-python",
   "name": "python",
   "nbconvert_exporter": "python",
   "pygments_lexer": "ipython3",
   "version": "3.9.7"
  }
 },
 "nbformat": 4,
 "nbformat_minor": 5
}
